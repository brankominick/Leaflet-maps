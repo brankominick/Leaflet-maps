{
 "cells": [
  {
   "cell_type": "markdown",
   "metadata": {},
   "source": [
    "# Python Basics #\n"
   ]
  },
  {
   "cell_type": "markdown",
   "metadata": {},
   "source": [
    "### Simple Types ###"
   ]
  },
  {
   "cell_type": "code",
   "execution_count": null,
   "metadata": {},
   "outputs": [],
   "source": [
    "x = 'This is a variable'"
   ]
  },
  {
   "cell_type": "markdown",
   "metadata": {},
   "source": [
    "Variables are the basic blocks of Python.  \n",
    "They store values"
   ]
  },
  {
   "cell_type": "code",
   "execution_count": null,
   "metadata": {},
   "outputs": [],
   "source": [
    "#Text following a '#' will not be run. This is called a comment\n",
    "\n",
    "#Variables can store many kinds of values\n",
    "\n",
    "y = 5\n",
    "z = True # case sensitive"
   ]
  },
  {
   "cell_type": "code",
   "execution_count": null,
   "metadata": {},
   "outputs": [],
   "source": [
    "#What type of data are we storing?\n",
    "print(x)\n",
    "print(y)\n",
    "print(z)"
   ]
  },
  {
   "cell_type": "code",
   "execution_count": null,
   "metadata": {},
   "outputs": [],
   "source": [
    "#The type function tells us what type of data a variable holds\n",
    "\n",
    "print(type(x), type(y), type(z))"
   ]
  },
  {
   "cell_type": "markdown",
   "metadata": {},
   "source": [
    "#### Strings, Ints, and Bools  ####\n",
    "Strings - text; can be enclosed in either single or double quotes  \n",
    "Int - integers  \n",
    "Bool - True or False; used for conditions"
   ]
  },
  {
   "cell_type": "markdown",
   "metadata": {},
   "source": [
    "### Operating on Things ###"
   ]
  },
  {
   "cell_type": "markdown",
   "metadata": {},
   "source": [
    "Variables aren't worth too much if they only store information. Let's start acting on them!"
   ]
  },
  {
   "cell_type": "code",
   "execution_count": null,
   "metadata": {},
   "outputs": [],
   "source": [
    "# Basic Operators\n",
    "a = 3\n",
    "b = 4\n",
    "\n",
    "print(a + b)\n",
    "print(a - b)\n",
    "print(a * b)\n",
    "print(a ** b)\n",
    "print(a / b)\n",
    "\n",
    "#Operators can be used for math!"
   ]
  },
  {
   "cell_type": "code",
   "execution_count": null,
   "metadata": {},
   "outputs": [],
   "source": [
    "#Operators can also be used on other types\n",
    "\n",
    "first = 'Hello'\n",
    "second = 'there!'\n",
    "\n",
    "print(first + second)\n",
    "print(first + ' ' + second)\n",
    "print(first * 3)\n",
    "\n",
    "third = first + second\n",
    "print(third)"
   ]
  },
  {
   "cell_type": "code",
   "execution_count": null,
   "metadata": {},
   "outputs": [],
   "source": [
    "# Boolean Operators let us compare things\n",
    "\n",
    "print(a > b) #3 > 4?\n",
    "print(a == b) #3 == 4?\n",
    "print(first + second == third)\n",
    "\n",
    "\n",
    "print(True or False)\n",
    "print(True and False)"
   ]
  },
  {
   "cell_type": "markdown",
   "metadata": {},
   "source": [
    "### Functions ###"
   ]
  },
  {
   "cell_type": "markdown",
   "metadata": {},
   "source": [
    "Python has many built-in functions. We can also write our own"
   ]
  },
  {
   "cell_type": "code",
   "execution_count": null,
   "metadata": {},
   "outputs": [],
   "source": [
    "print(type(a))\n",
    "print(len(first))"
   ]
  },
  {
   "cell_type": "code",
   "execution_count": null,
   "metadata": {},
   "outputs": [],
   "source": [
    "def add(x, y):    #We define a function called add with the parameters x and y\n",
    "    print(x + y)  #It prints out their sum\n",
    "\n",
    "add(2,3) #Add the arguments 2 and 3\n",
    "add('hello', 'there')\n",
    "add(True, False)"
   ]
  },
  {
   "cell_type": "code",
   "execution_count": null,
   "metadata": {},
   "outputs": [],
   "source": [
    "#in jupyter, if you ever want information about a function, \n",
    "#you can type it's name followed by ?\n",
    "print?"
   ]
  },
  {
   "cell_type": "markdown",
   "metadata": {},
   "source": [
    "### Methods ###"
   ]
  },
  {
   "cell_type": "code",
   "execution_count": null,
   "metadata": {},
   "outputs": [],
   "source": [
    "#Objects\n",
    "\n",
    "#strings are objects. An object is a bundle of some data,\n",
    "#and functions that act on that data.\n",
    "#These functions within objects are called\n",
    "\n",
    "#methods\n",
    "x = 'this is all lowercase'\n",
    "print(x)\n",
    "print(x.upper())"
   ]
  },
  {
   "cell_type": "markdown",
   "metadata": {},
   "source": [
    "### Collections ###"
   ]
  },
  {
   "cell_type": "code",
   "execution_count": null,
   "metadata": {},
   "outputs": [],
   "source": [
    "print('Lists:')\n",
    "#Lists: ordered, mutable, indexable, versatile and great for storing elements\n",
    "L = [1,2,3,4]\n",
    "print(L)\n",
    "print(L[0])"
   ]
  },
  {
   "cell_type": "code",
   "execution_count": null,
   "metadata": {},
   "outputs": [],
   "source": [
    "#Slicing\n",
    "print(L[-1]) #start from the end\n",
    "print(L[:2]) #get a slice starting from beginning\n",
    "print(L[2:]) #get a slice going to end\n",
    "print(L[:-1])"
   ]
  },
  {
   "cell_type": "code",
   "execution_count": null,
   "metadata": {},
   "outputs": [],
   "source": [
    "#List methods\n",
    "L.append('name')\n",
    "print(L)\n",
    "L.pop()\n",
    "print(L)"
   ]
  },
  {
   "cell_type": "code",
   "execution_count": null,
   "metadata": {},
   "outputs": [],
   "source": [
    "L[0] = 'one'\n",
    "print(L)"
   ]
  },
  {
   "cell_type": "code",
   "execution_count": null,
   "metadata": {},
   "outputs": [],
   "source": [
    "#Dictionaries: Key-Value pairs, unordered\n",
    "name = 'brian'\n",
    "D = {'key1' : 'value1', 'Name' : name}\n",
    "print(D)\n",
    "print(D['Name'])\n",
    "\n"
   ]
  },
  {
   "cell_type": "code",
   "execution_count": null,
   "metadata": {},
   "outputs": [],
   "source": [
    "#Add a new pair\n",
    "D['new'] = 'Entry'\n",
    "print(D)"
   ]
  },
  {
   "cell_type": "code",
   "execution_count": null,
   "metadata": {},
   "outputs": [],
   "source": [
    "#Values in lists and dicts can be more than just strings and ints\n",
    "weatherdata = {'Town' : ['Boston', 'Salem', 'Worcester', 'Ludlow']\n",
    "              ,'Temp' : [65, 63, 67, 58]\n",
    "              ,'Forecast': ['Rain', 'Rain', 'Cloudy', 'Sunny']}\n",
    "\n",
    "print(weatherdata)\n"
   ]
  },
  {
   "cell_type": "code",
   "execution_count": null,
   "metadata": {},
   "outputs": [],
   "source": [
    "#From pandas ---- Using other peoples' work is good!!\n",
    "#DataFrames\n",
    "import pandas as pd\n",
    "df = pd.DataFrame(weatherdata)\n",
    "print(df)\n",
    "#pd.DataFrame?"
   ]
  },
  {
   "cell_type": "markdown",
   "metadata": {},
   "source": [
    "### Loops ###"
   ]
  },
  {
   "cell_type": "code",
   "execution_count": null,
   "metadata": {},
   "outputs": [],
   "source": [
    "#for loop\n",
    "\n",
    "for i in range(10):\n",
    "    print(i)\n",
    "    \n",
    "for item in L:\n",
    "    print(L)\n",
    "\n",
    "for i in range(len(L)):\n",
    "    L[i] = i * i\n",
    "    \n",
    "print(L)"
   ]
  },
  {
   "cell_type": "code",
   "execution_count": null,
   "metadata": {},
   "outputs": [],
   "source": [
    "#While loop\n",
    "\n",
    "#careful not to make a never ending loop\n",
    "i = 0\n",
    "while i < 10:\n",
    "    print(i)\n",
    "    i+=1"
   ]
  },
  {
   "cell_type": "markdown",
   "metadata": {},
   "source": [
    "### Conditions ###"
   ]
  },
  {
   "cell_type": "code",
   "execution_count": null,
   "metadata": {},
   "outputs": [],
   "source": [
    "a = 3\n",
    "b = 2\n",
    "if a < b:\n",
    "    print('A is less than B')\n",
    "else:\n",
    "    print('A is greater than B')"
   ]
  },
  {
   "cell_type": "code",
   "execution_count": null,
   "metadata": {},
   "outputs": [],
   "source": [
    "cond = False\n",
    "i = 0\n",
    "while cond == False:\n",
    "    if i == 5:\n",
    "        cond = True\n",
    "    print('cond still false\\n i =',i)\n",
    "    i += 1\n",
    "    "
   ]
  },
  {
   "cell_type": "code",
   "execution_count": null,
   "metadata": {},
   "outputs": [],
   "source": []
  }
 ],
 "metadata": {
  "kernelspec": {
   "display_name": "Python 3",
   "language": "python",
   "name": "python3"
  },
  "language_info": {
   "codemirror_mode": {
    "name": "ipython",
    "version": 3
   },
   "file_extension": ".py",
   "mimetype": "text/x-python",
   "name": "python",
   "nbconvert_exporter": "python",
   "pygments_lexer": "ipython3",
   "version": "3.7.4"
  }
 },
 "nbformat": 4,
 "nbformat_minor": 2
}
