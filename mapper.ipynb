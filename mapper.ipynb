{
 "cells": [
  {
   "cell_type": "markdown",
   "metadata": {},
   "source": [
    "# Map Making With Python #\n"
   ]
  },
  {
   "cell_type": "markdown",
   "metadata": {},
   "source": [
    "## Introduction ##\n",
    "![Heatmap of Restaurants in Boston](heatmap.png)\n",
    "Have you ever wondered how people make cool maps with data? This notebook will walk you through the steps for programmatically generating a heatmap and a choropleth map using just a few python packages. By the end, you'll know basic, transferable skills for making maps and be ready to do more on your own.  "
   ]
  },
  {
   "cell_type": "markdown",
   "metadata": {},
   "source": [
    "## Python Basics ##  \n",
    "\n",
    "Some of the most basic types in python are strings, integers, floats, and booleans. Variables can be any of these and more.  "
   ]
  },
  {
   "cell_type": "code",
   "execution_count": null,
   "metadata": {},
   "outputs": [],
   "source": [
    "#Comments can follow '#' or be enclosed with triple quotes \"\"\" \"\"\"\n",
    "\n",
    "x = 2 #This is an int\n",
    "print(x)\n",
    "print(type(x))\n",
    "\n",
    "x = 'this is a string' #strings can be enclosed with single or double quotes 'hello' \"hi\"\n",
    "print(x)\n",
    "print(type(x))\n",
    "\n",
    "#x = this doesnt work"
   ]
  },
  {
   "cell_type": "code",
   "execution_count": null,
   "metadata": {},
   "outputs": [],
   "source": [
    "#Using operators\n",
    "\n",
    "#On ints\n",
    "print(3 + 2)\n",
    "x = 3\n",
    "y = 2\n",
    "print(x + y)\n",
    "\n",
    "#On strings\n",
    "print('hello' + 'there')\n",
    "x = 'hello there' * 3\n",
    "print(x)"
   ]
  },
  {
   "cell_type": "code",
   "execution_count": null,
   "metadata": {},
   "outputs": [],
   "source": [
    "#Using functions\n",
    "\n",
    "def add(x, y):    #We define a function called add with the parameters x and y\n",
    "    print(x + y)  #It prints out there sum\n",
    "\n",
    "add(2,3) #Add the arguments 2 and 3\n",
    "add('hello', 'there')\n",
    "add(True, False)\n",
    "\n",
    "#in jupyter, if you ever want information about a function, \n",
    "#you can type it's name followed by ?\n",
    "print?"
   ]
  },
  {
   "cell_type": "code",
   "execution_count": null,
   "metadata": {},
   "outputs": [],
   "source": [
    "#Objects\n",
    "\n",
    "#simple types like int and string are objects. An object is a bundle of some data,\n",
    "#and functions that act on that data.\n",
    "#These functions within objects are called\n",
    "\n",
    "#methods\n",
    "x = 'this is all lowercase'\n",
    "print(x)\n",
    "print(x.upper())"
   ]
  },
  {
   "cell_type": "code",
   "execution_count": null,
   "metadata": {},
   "outputs": [],
   "source": [
    "#Collections \n",
    "\n",
    "print('Lists:')\n",
    "#Lists: ordered, mutable, indexable, versatile and great for storing elements\n",
    "L = [1,2,3,4]\n",
    "print(L)\n",
    "print(L[0])\n",
    "\n",
    "print('\\nDictionaries:')\n",
    "#Dictionaries: Key-Value pairs\n",
    "name = 'brian'\n",
    "D = {'key1' : 'value1', 'Name' : name}\n",
    "print(D)\n",
    "print(D['Name'])\n",
    "\n",
    "print('\\nfun:')\n",
    "#Values in lists and dicts can be more than just strings and ints\n",
    "weatherdata = {'Town' : ['Boston', 'Salem', 'Worcester', 'Ludlow']\n",
    "              ,'Temp' : [65, 63, 67, 58]\n",
    "              ,'Forecast': ['Rain', 'Rain', 'Cloudy', 'Sunny']}\n",
    "\n",
    "print(weatherdata)\n",
    "\n",
    "print('\\nPandas Dataframe')\n",
    "#From pandas\n",
    "#DataFrames\n",
    "import pandas as pd\n",
    "df = pd.DataFrame(weatherdata)\n",
    "print(df)\n",
    "#pd.DataFrame?"
   ]
  },
  {
   "cell_type": "markdown",
   "metadata": {},
   "source": [
    "## Let's Make a Map! ##\n",
    "\n",
    "[Folium](https://python-visualization.github.io/folium/modules.html) - easy to use and great for creating interactive leaflet maps  \n",
    "[JSON](https://docs.python.org/3/library/json.html) - JavaScript Object Notation encoder/decoder for reading in geographical data  \n",
    "[pandas](https://pandas.pydata.org/pandas-docs/stable/reference/index.html) - data structures for easy manipulation and analysis  \n",
    "  \n",
    "Data was taken from **https://data.boston.gov/** and **https://data.worldbank.org/indicator/it.NET.user.ZS**  \n",
    "\n"
   ]
  },
  {
   "cell_type": "code",
   "execution_count": null,
   "metadata": {},
   "outputs": [],
   "source": [
    "import folium\n",
    "from folium.plugins import HeatMap\n",
    "import json\n",
    "import pandas as pd"
   ]
  },
  {
   "cell_type": "raw",
   "metadata": {},
   "source": []
  },
  {
   "cell_type": "code",
   "execution_count": null,
   "metadata": {},
   "outputs": [],
   "source": [
    "#Let's see what the data looks like\n",
    "pd.read_csv('restaurants.csv')"
   ]
  },
  {
   "cell_type": "code",
   "execution_count": null,
   "metadata": {},
   "outputs": [],
   "source": [
    "#Now load it into a variable and get the data we need\n",
    "restaurants = pd.read_csv('restaurants.csv', usecols = ['BusinessName','Latitude','Longitude']) #Read in only data for these columns\n",
    "restaurants = restaurants.drop_duplicates()\n",
    "restaurants['Latitude'].apply(int) #make sure the value is int\n",
    "restaurants['Longitude'].apply(int)\n",
    "print(restaurants)\n",
    "\n",
    "#remove entries without coordinates\n",
    "restaurants = restaurants[restaurants.Latitude != 0]\n",
    "print('Prepared data:\\n', restaurants)"
   ]
  },
  {
   "cell_type": "code",
   "execution_count": null,
   "metadata": {},
   "outputs": [],
   "source": [
    "#Read in neighborhood boundaries\n",
    "with open('Boston_Neighborhoods.geojson', 'r') as file:\n",
    "    Neighborhoods = json.load(file)"
   ]
  },
  {
   "cell_type": "code",
   "execution_count": null,
   "metadata": {},
   "outputs": [],
   "source": [
    "#Now let's make the map!\n",
    "map = folium.Map(location = [42.3601, -71.0589] ,zoom_start = 14)#set the basemap starting location and zoom\n",
    "\n",
    "heatmap = HeatMap(list(zip(restaurants['Latitude'], restaurants['Longitude']))#creating a separate heatmap\n",
    "                  ,min_opacity=0.2\n",
    "                  ,max_val=1\n",
    "                  ,radius=10, blur=15\n",
    "                  ,max_zoom=1\n",
    "                 )\n",
    "heatmap.caption= 'Restaurants in Boston with Available Coordinates'"
   ]
  },
  {
   "cell_type": "code",
   "execution_count": null,
   "metadata": {},
   "outputs": [],
   "source": [
    "#add the neighborhood boundaries\n",
    "folium.GeoJson(Neighborhoods).add_to(map)"
   ]
  },
  {
   "cell_type": "code",
   "execution_count": null,
   "metadata": {},
   "outputs": [],
   "source": [
    "#add the heatmap\n",
    "map.add_child(heatmap)"
   ]
  },
  {
   "cell_type": "code",
   "execution_count": null,
   "metadata": {},
   "outputs": [],
   "source": [
    "#Now let's make another map!\n",
    "#First load in the data\n",
    "internet = pd.read_csv('Internet.csv', skiprows=4).dropna(axis=1, how='all')\n",
    "\n",
    "with open('country-codes.json', 'r') as file:\n",
    "    countrycodes = json.load(file)\n",
    "\n"
   ]
  },
  {
   "cell_type": "code",
   "execution_count": null,
   "metadata": {},
   "outputs": [],
   "source": [
    "#Let's take a peak at the data\n",
    "internet.head()"
   ]
  },
  {
   "cell_type": "code",
   "execution_count": null,
   "metadata": {},
   "outputs": [],
   "source": [
    "print(countrycodes)"
   ]
  },
  {
   "cell_type": "code",
   "execution_count": null,
   "metadata": {},
   "outputs": [],
   "source": [
    "#Now let's select the data we'd like to plot\n",
    "codes = [i['id'] for i in countrycodes['features']]\n",
    "datacodes = internet['Country Code']\n",
    "#for i in datacodes:\n",
    "#    if i not in codes:\n",
    "#        print(i)\n",
    "\n",
    "internet = internet[internet['Country Code'].isin(codes)]\n",
    "\n",
    "internet2000 = internet[['Country Code', '2000']]\n",
    "internet2010 = internet[['Country Code', '2010']]\n",
    "internet2017 = internet[['Country Code', '2017']]\n",
    "internet2005 = internet[['Country Code', '2005']]"
   ]
  },
  {
   "cell_type": "code",
   "execution_count": null,
   "metadata": {},
   "outputs": [],
   "source": [
    "print(internet2000)"
   ]
  },
  {
   "cell_type": "code",
   "execution_count": null,
   "metadata": {},
   "outputs": [],
   "source": [
    "m1 = folium.Map(location = [25,0], zoom_start = 1.5)\n",
    "m2 = folium.Map(location = [25,0], zoom_start = 1.5)\n",
    "m3 = folium.Map(location = [25,0], zoom_start = 1.5)\n",
    "bins = [float(num) for num in range(0,110,10)]      \n",
    "\n",
    "folium.Choropleth(geo_data = countrycodes\n",
    "            ,data = internet2017\n",
    "            ,columns = ['Country Code', '2017']\n",
    "            ,key_on = 'feature.id'\n",
    "            ,fill_color = 'Spectral'\n",
    "            ,fill_opacity = 0.7\n",
    "            ,line_opacity = 0.4\n",
    "            ,legend_name = 'People with Internet Access in 2017 (%)'\n",
    "            ,name = '2017'\n",
    "            ,bins = bins\n",
    "            ).add_to(m1)\n",
    "\n",
    "folium.Choropleth(geo_data = countrycodes\n",
    "            ,data = internet2010\n",
    "            ,columns = ['Country Code', '2010']\n",
    "            ,key_on = 'feature.id'\n",
    "            ,fill_color = 'Spectral'\n",
    "            ,fill_opacity = 0.7\n",
    "            ,line_opacity = 0.4\n",
    "            ,legend_name = 'People with Internet Access in 2010 (%)'\n",
    "            ,name = '2010'\n",
    "            ,bins = bins\n",
    "            ).add_to(m2)\n",
    "\n",
    "folium.Choropleth(geo_data = countrycodes\n",
    "            ,data = internet2005\n",
    "            ,columns = ['Country Code', '2005']\n",
    "            ,key_on = 'feature.id'\n",
    "            ,fill_color = 'Spectral'\n",
    "            ,fill_opacity = 0.7\n",
    "            ,line_opacity = 0.4\n",
    "            ,legend_name = 'People with Internet Access in 2005 (%)'\n",
    "            ,name = '2005'\n",
    "            ,bins = bins\n",
    "            ).add_to(m3)\n",
    "\n",
    "#folium.LayerControl().add_to(m)"
   ]
  },
  {
   "cell_type": "code",
   "execution_count": null,
   "metadata": {},
   "outputs": [],
   "source": [
    "m1\n"
   ]
  },
  {
   "cell_type": "code",
   "execution_count": null,
   "metadata": {},
   "outputs": [],
   "source": [
    "m2"
   ]
  },
  {
   "cell_type": "code",
   "execution_count": null,
   "metadata": {},
   "outputs": [],
   "source": [
    "m3"
   ]
  },
  {
   "cell_type": "code",
   "execution_count": null,
   "metadata": {},
   "outputs": [],
   "source": []
  }
 ],
 "metadata": {
  "kernelspec": {
   "display_name": "Python 3",
   "language": "python",
   "name": "python3"
  },
  "language_info": {
   "codemirror_mode": {
    "name": "ipython",
    "version": 3
   },
   "file_extension": ".py",
   "mimetype": "text/x-python",
   "name": "python",
   "nbconvert_exporter": "python",
   "pygments_lexer": "ipython3",
   "version": "3.7.4"
  }
 },
 "nbformat": 4,
 "nbformat_minor": 2
}
